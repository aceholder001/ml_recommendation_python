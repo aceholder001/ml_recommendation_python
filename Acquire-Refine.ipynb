{
 "cells": [
  {
   "cell_type": "markdown",
   "metadata": {},
   "source": [
    "# Acquire & Refine the Data\n",
    "\n",
    "Lets see the sources for getting historical information posted on HackerNews\n",
    "\n",
    "- **HackerNews API** - YCombinator provides an official hackernew api through Firebase. This is a near real-time database and provides both an *items* (stories and comments) as well as an *users* api.  It is available at https://github.com/HackerNews/API\n",
    "\n",
    "- **BigQuery** : Google Big Query has a daily updated HackerNews public dataset available (from 2006 to date). It only has *items* information. It is available at https://bigquery.cloud.google.com/table/bigquery-public-data:hacker_news.full\n"
   ]
  },
  {
   "cell_type": "markdown",
   "metadata": {},
   "source": [
    "## Items Data \n",
    "\n",
    "The schema for the Big Query table is\n",
    "\n",
    "| Field       | Type      | Description                           |\n",
    "|:------------|----------:|:--------------------------------------|\n",
    "| by          | STRING    | The username of the item's author.    |\n",
    "| score       | INTEGER   | Story score                           |\n",
    "| time        | INTEGER   | Unix time                             |\n",
    "| timestamp   | TIMESTAMP | Timestamp for the unix time           |\n",
    "| title       | STRING    | Story title                           |\n",
    "| type        | STRING    | Type of details (comment, story, ...) |\n",
    "| url         | STRING    | Story url                             |\n",
    "| text        | STRING    | Story or comment text                 |\n",
    "| parent      | INTEGER   | Parent comment ID                     |\n",
    "| deleted     | BOOLEAN   | Is deleted?                           |\n",
    "| dead        | BOOLEAN   | Is dead?                              |\n",
    "| descendants | INTEGER   | Number of story or poll descendants   |\n",
    "| id          | INTEGER   | The item's unique id.                 |\n",
    "| ranking     | INTEGER   | Comment ranking                       |\n",
    "\n",
    "\n",
    "- Get all the stories posted on HackerNews in **2017 (till date)**. \n",
    "- To ensure a relevant set, we will limit the stories which have atleast have **score of 5 points or more** on them. \n",
    "\n",
    "We will can use the BigQuery Web Interface to do this. (We can also use the python api for doing it...)\n",
    "\n",
    "```SQL\n",
    "#standardSQL\n",
    "SELECT * \n",
    "FROM `bigquery-public-data.hacker_news.full`\n",
    "WHERE type=\"story\" AND score > 4 AND EXTRACT(YEAR FROM timestamp)=2017\n",
    "```\n",
    "\n",
    "This dataset is available in `data\\stories2017score5.gzip`"
   ]
  },
  {
   "cell_type": "code",
   "execution_count": 1,
   "metadata": {},
   "outputs": [],
   "source": [
    "import numpy as np\n",
    "import pandas as pd\n",
    "import matplotlib.pyplot as plt\n",
    "plt.style.use('ggplot')"
   ]
  },
  {
   "cell_type": "code",
   "execution_count": 2,
   "metadata": {},
   "outputs": [],
   "source": [
    "%matplotlib inline"
   ]
  },
  {
   "cell_type": "code",
   "execution_count": 3,
   "metadata": {},
   "outputs": [],
   "source": [
    "# Read the gzip file into memory\n",
    "stories = pd.read_csv(\"data/stories2017score5.csv.gzip\", compression='gzip', low_memory=False)"
   ]
  },
  {
   "cell_type": "code",
   "execution_count": 4,
   "metadata": {},
   "outputs": [
    {
     "data": {
      "text/plain": [
       "(56757, 14)"
      ]
     },
     "execution_count": 4,
     "metadata": {},
     "output_type": "execute_result"
    }
   ],
   "source": [
    "stories.shape"
   ]
  },
  {
   "cell_type": "code",
   "execution_count": 5,
   "metadata": {},
   "outputs": [
    {
     "data": {
      "text/plain": [
       "56757"
      ]
     },
     "execution_count": 5,
     "metadata": {},
     "output_type": "execute_result"
    }
   ],
   "source": [
    "len(stories.id.unique())"
   ]
  },
  {
   "cell_type": "code",
   "execution_count": 6,
   "metadata": {},
   "outputs": [
    {
     "data": {
      "text/plain": [
       "<matplotlib.axes._subplots.AxesSubplot at 0x11eac37b8>"
      ]
     },
     "execution_count": 6,
     "metadata": {},
     "output_type": "execute_result"
    },
    {
     "data": {
      "image/png": "[encoded data removed]",
      "text/plain": [
       "<matplotlib.figure.Figure at 0x11eac31d0>"
      ]
     },
     "metadata": {},
     "output_type": "display_data"
    }
   ],
   "source": [
    "np.log(stories.score).hist()"
   ]
  },
  {
   "cell_type": "markdown",
   "metadata": {},
   "source": [
    "## Users Data\n",
    "\n",
    "Lets get all the comments from the database\n",
    "\n",
    "```SQL\n",
    "#standardSQL\n",
    "SELECT by, parent\n",
    "FROM `bigquery-public-data.hacker_news.full`\n",
    "WHERE type=\"comment\" AND parent IN \n",
    " (SELECT id\n",
    "  FROM `bigquery-public-data.hacker_news.full`\n",
    "  WHERE type=\"story\" AND score > 4 AND EXTRACT(YEAR FROM timestamp)=2017)\n",
    "```  \n"
   ]
  },
  {
   "cell_type": "code",
   "execution_count": 7,
   "metadata": {},
   "outputs": [],
   "source": [
    "comments = pd.read_csv(\"data/bycomments2017score5.csv.gz\", compression='gzip', low_memory=False)"
   ]
  },
  {
   "cell_type": "code",
   "execution_count": 8,
   "metadata": {},
   "outputs": [
    {
     "data": {
      "text/html": [
       "<div>\n",
       "<style scoped>\n",
       "    .dataframe tbody tr th:only-of-type {\n",
       "        vertical-align: middle;\n",
       "    }\n",
       "\n",
       "    .dataframe tbody tr th {\n",
       "        vertical-align: top;\n",
       "    }\n",
       "\n",
       "    .dataframe thead th {\n",
       "        text-align: right;\n",
       "    }\n",
       "</style>\n",
       "<table border=\"1\" class=\"dataframe\">\n",
       "  <thead>\n",
       "    <tr style=\"text-align: right;\">\n",
       "      <th></th>\n",
       "      <th>by</th>\n",
       "      <th>parent</th>\n",
       "    </tr>\n",
       "  </thead>\n",
       "  <tbody>\n",
       "    <tr>\n",
       "      <th>450879</th>\n",
       "      <td>wowthatseuffing</td>\n",
       "      <td>14616440</td>\n",
       "    </tr>\n",
       "    <tr>\n",
       "      <th>450880</th>\n",
       "      <td>wtflmaohnisdumb</td>\n",
       "      <td>15443326</td>\n",
       "    </tr>\n",
       "    <tr>\n",
       "      <th>450881</th>\n",
       "      <td>ycmbntrthrwaway</td>\n",
       "      <td>13566822</td>\n",
       "    </tr>\n",
       "    <tr>\n",
       "      <th>450882</th>\n",
       "      <td>yetanotherwayne</td>\n",
       "      <td>14802154</td>\n",
       "    </tr>\n",
       "    <tr>\n",
       "      <th>450883</th>\n",
       "      <td>zaogaothrowaway</td>\n",
       "      <td>14573959</td>\n",
       "    </tr>\n",
       "  </tbody>\n",
       "</table>\n",
       "</div>"
      ],
      "text/plain": [
       "                     by    parent\n",
       "450879  wowthatseuffing  14616440\n",
       "450880  wtflmaohnisdumb  15443326\n",
       "450881  ycmbntrthrwaway  13566822\n",
       "450882  yetanotherwayne  14802154\n",
       "450883  zaogaothrowaway  14573959"
      ]
     },
     "execution_count": 8,
     "metadata": {},
     "output_type": "execute_result"
    }
   ],
   "source": [
    "comments.tail()"
   ]
  },
  {
   "cell_type": "code",
   "execution_count": 9,
   "metadata": {},
   "outputs": [],
   "source": [
    "users = comments.by.unique()"
   ]
  },
  {
   "cell_type": "code",
   "execution_count": 10,
   "metadata": {},
   "outputs": [
    {
     "data": {
      "text/plain": [
       "array([nan, '05', '0a', ..., 'wtflmaohnisdumb', 'yetanotherwayne',\n",
       "       'zaogaothrowaway'], dtype=object)"
      ]
     },
     "execution_count": 10,
     "metadata": {},
     "output_type": "execute_result"
    }
   ],
   "source": [
    "users"
   ]
  },
  {
   "cell_type": "code",
   "execution_count": 11,
   "metadata": {},
   "outputs": [
    {
     "data": {
      "text/plain": [
       "array([nan, '05', '0a', '1k', '21', '2m', '37', '47', '5h', '8a'], dtype=object)"
      ]
     },
     "execution_count": 11,
     "metadata": {},
     "output_type": "execute_result"
    }
   ],
   "source": [
    "users10 = users[:10]\n",
    "users10"
   ]
  },
  {
   "cell_type": "code",
   "execution_count": 12,
   "metadata": {},
   "outputs": [],
   "source": [
    "from hackernews import HackerNews\n",
    "hn = HackerNews()"
   ]
  },
  {
   "cell_type": "code",
   "execution_count": 13,
   "metadata": {},
   "outputs": [
    {
     "data": {
      "text/plain": [
       "139.346"
      ]
     },
     "execution_count": 13,
     "metadata": {},
     "output_type": "execute_result"
    }
   ],
   "source": [
    "len(users)/500"
   ]
  },
  {
   "cell_type": "code",
   "execution_count": 14,
   "metadata": {},
   "outputs": [
    {
     "data": {
      "text/plain": [
       "1"
      ]
     },
     "execution_count": 14,
     "metadata": {},
     "output_type": "execute_result"
    }
   ],
   "source": [
    "141%140"
   ]
  },
  {
   "cell_type": "code",
   "execution_count": 15,
   "metadata": {},
   "outputs": [],
   "source": [
    "def getUserData(users): \n",
    "    '''\n",
    "    Function to get user details from the HackerNews API\n",
    "    And store in a dataframe\n",
    "    '''\n",
    "    column_names = ['user', 'created', 'karma', 'submitted']\n",
    "    userDf = pd.DataFrame(columns = column_names)\n",
    "\n",
    "    for index, user in enumerate(users):\n",
    "        \n",
    "        #Get User Details\n",
    "        try: \n",
    "            userDetails = hn.get_user(user)\n",
    "        \n",
    "        \n",
    "            # Get details\n",
    "            created = userDetails.created\n",
    "            karma = userDetails.karma\n",
    "            submitted = len(userDetails.submitted)\n",
    "\n",
    "            #Store in the DataFrame\n",
    "            userDf.loc[index] = [user, created, karma, submitted] \n",
    "            \n",
    "            if index%140 == 0:\n",
    "                print(index)\n",
    "            \n",
    "        except:\n",
    "            continue\n",
    "     \n",
    "    return userDf"
   ]
  },
  {
   "cell_type": "code",
   "execution_count": 20,
   "metadata": {},
   "outputs": [],
   "source": [
    "userDf10 = getUserData(users10)"
   ]
  },
  {
   "cell_type": "code",
   "execution_count": 21,
   "metadata": {},
   "outputs": [
    {
     "data": {
      "text/html": [
       "<div>\n",
       "<style scoped>\n",
       "    .dataframe tbody tr th:only-of-type {\n",
       "        vertical-align: middle;\n",
       "    }\n",
       "\n",
       "    .dataframe tbody tr th {\n",
       "        vertical-align: top;\n",
       "    }\n",
       "\n",
       "    .dataframe thead th {\n",
       "        text-align: right;\n",
       "    }\n",
       "</style>\n",
       "<table border=\"1\" class=\"dataframe\">\n",
       "  <thead>\n",
       "    <tr style=\"text-align: right;\">\n",
       "      <th></th>\n",
       "      <th>user</th>\n",
       "      <th>created</th>\n",
       "      <th>karma</th>\n",
       "      <th>submitted</th>\n",
       "    </tr>\n",
       "  </thead>\n",
       "  <tbody>\n",
       "    <tr>\n",
       "      <th>1</th>\n",
       "      <td>05</td>\n",
       "      <td>2015-06-10 18:40:59</td>\n",
       "      <td>155</td>\n",
       "      <td>74</td>\n",
       "    </tr>\n",
       "    <tr>\n",
       "      <th>2</th>\n",
       "      <td>0a</td>\n",
       "      <td>2016-10-23 15:09:40</td>\n",
       "      <td>3</td>\n",
       "      <td>1</td>\n",
       "    </tr>\n",
       "    <tr>\n",
       "      <th>3</th>\n",
       "      <td>1k</td>\n",
       "      <td>2017-05-08 11:09:03</td>\n",
       "      <td>18</td>\n",
       "      <td>8</td>\n",
       "    </tr>\n",
       "    <tr>\n",
       "      <th>4</th>\n",
       "      <td>21</td>\n",
       "      <td>2016-02-02 03:53:02</td>\n",
       "      <td>2186</td>\n",
       "      <td>583</td>\n",
       "    </tr>\n",
       "    <tr>\n",
       "      <th>5</th>\n",
       "      <td>2m</td>\n",
       "      <td>2014-11-19 21:08:27</td>\n",
       "      <td>1</td>\n",
       "      <td>2</td>\n",
       "    </tr>\n",
       "    <tr>\n",
       "      <th>6</th>\n",
       "      <td>37</td>\n",
       "      <td>2011-09-08 19:44:39</td>\n",
       "      <td>53</td>\n",
       "      <td>36</td>\n",
       "    </tr>\n",
       "    <tr>\n",
       "      <th>7</th>\n",
       "      <td>47</td>\n",
       "      <td>2009-11-20 23:01:53</td>\n",
       "      <td>144</td>\n",
       "      <td>60</td>\n",
       "    </tr>\n",
       "    <tr>\n",
       "      <th>8</th>\n",
       "      <td>5h</td>\n",
       "      <td>2011-01-20 17:49:25</td>\n",
       "      <td>530</td>\n",
       "      <td>169</td>\n",
       "    </tr>\n",
       "    <tr>\n",
       "      <th>9</th>\n",
       "      <td>8a</td>\n",
       "      <td>2016-12-29 15:32:31</td>\n",
       "      <td>8</td>\n",
       "      <td>7</td>\n",
       "    </tr>\n",
       "  </tbody>\n",
       "</table>\n",
       "</div>"
      ],
      "text/plain": [
       "  user             created karma submitted\n",
       "1   05 2015-06-10 18:40:59   155        74\n",
       "2   0a 2016-10-23 15:09:40     3         1\n",
       "3   1k 2017-05-08 11:09:03    18         8\n",
       "4   21 2016-02-02 03:53:02  2186       583\n",
       "5   2m 2014-11-19 21:08:27     1         2\n",
       "6   37 2011-09-08 19:44:39    53        36\n",
       "7   47 2009-11-20 23:01:53   144        60\n",
       "8   5h 2011-01-20 17:49:25   530       169\n",
       "9   8a 2016-12-29 15:32:31     8         7"
      ]
     },
     "execution_count": 21,
     "metadata": {},
     "output_type": "execute_result"
    }
   ],
   "source": [
    "userDf10"
   ]
  },
  {
   "cell_type": "code",
   "execution_count": null,
   "metadata": {},
   "outputs": [
    {
     "name": "stdout",
     "output_type": "stream",
     "text": [
      "140\n",
      "280\n",
      "420\n",
      "560\n",
      "700\n",
      "840\n",
      "980\n",
      "1120\n",
      "1260\n",
      "1400\n",
      "1540\n",
      "1680\n",
      "1820\n",
      "1960\n",
      "2100\n",
      "2240\n",
      "2380\n",
      "2520\n",
      "2660\n",
      "2800\n",
      "2940\n",
      "3080\n",
      "3220\n",
      "3360\n",
      "3500\n",
      "3640\n",
      "3780\n",
      "3920\n"
     ]
    }
   ],
   "source": [
    "userDfAll = getUserData(users[:10000])"
   ]
  },
  {
   "cell_type": "code",
   "execution_count": null,
   "metadata": {},
   "outputs": [],
   "source": [
    "import asyncio\n",
    "from asyncio_hn import ClientHN"
   ]
  },
  {
   "cell_type": "code",
   "execution_count": null,
   "metadata": {},
   "outputs": [],
   "source": [
    "import aiohttp\n",
    "import json\n",
    "N = 1_000\n",
    "\n",
    "async def advance_run(loop):\n",
    "    # We init the client - extension of aiohttp.ClientSession\n",
    "    conn = aiohttp.TCPConnector(limit=1000, loop=loop)\n",
    "    async with ClientHN(loop=loop, queue_size=1000, connector=conn, progress_bar=True, debug=True) as hn:\n",
    "        # Download the user information\n",
    "        #usersInfo = await hn.users((user.get(\"by\"), user.get(\"created\"), user.get(\"submitted\")) for user in users[:10])\n",
    "        usersInfo = await hn.users(users[1:1000])\n",
    "    return usersInfo\n",
    "        #with open(\"data/usersInfo.json\", \"w\") as f:\n",
    "        #    json.dump(usersInfo, f)\n"
   ]
  },
  {
   "cell_type": "code",
   "execution_count": null,
   "metadata": {},
   "outputs": [],
   "source": [
    "loop = asyncio.get_event_loop()\n",
    "usersInfo = loop.run_until_complete(advance_run(loop))"
   ]
  },
  {
   "cell_type": "code",
   "execution_count": null,
   "metadata": {},
   "outputs": [],
   "source": [
    "usersInfo"
   ]
  },
  {
   "cell_type": "code",
   "execution_count": null,
   "metadata": {},
   "outputs": [],
   "source": [
    "len(users)"
   ]
  },
  {
   "cell_type": "code",
   "execution_count": null,
   "metadata": {},
   "outputs": [],
   "source": [
    "hn.get_user(\"sadfsafassdafdasfs\")"
   ]
  },
  {
   "cell_type": "code",
   "execution_count": null,
   "metadata": {},
   "outputs": [],
   "source": [
    "# We will be using the Haxor - An unofficial Hacker News API in Python to access it\n",
    "# https://github.com/avinassh/haxor\n",
    "# ! pip install haxor\n",
    "\n",
    "from hackernews import HackerNews\n",
    "\n"
   ]
  },
  {
   "cell_type": "code",
   "execution_count": null,
   "metadata": {},
   "outputs": [],
   "source": [
    "from hackernews import HackerNews\n",
    "hn = HackerNews()"
   ]
  },
  {
   "cell_type": "code",
   "execution_count": null,
   "metadata": {},
   "outputs": [],
   "source": [
    "user = hn.get_user('05')"
   ]
  },
  {
   "cell_type": "code",
   "execution_count": null,
   "metadata": {},
   "outputs": [],
   "source": [
    "user.created"
   ]
  },
  {
   "cell_type": "code",
   "execution_count": null,
   "metadata": {},
   "outputs": [],
   "source": [
    "import datetime"
   ]
  },
  {
   "cell_type": "code",
   "execution_count": null,
   "metadata": {},
   "outputs": [],
   "source": [
    "type(user)"
   ]
  },
  {
   "cell_type": "code",
   "execution_count": null,
   "metadata": {},
   "outputs": [],
   "source": [
    "user.submitted"
   ]
  },
  {
   "cell_type": "code",
   "execution_count": null,
   "metadata": {},
   "outputs": [],
   "source": [
    "numbers = [1, 2, 3, 4, 5]"
   ]
  },
  {
   "cell_type": "code",
   "execution_count": null,
   "metadata": {},
   "outputs": [],
   "source": [
    "[(n, n**2) for n in numbers]"
   ]
  },
  {
   "cell_type": "code",
   "execution_count": null,
   "metadata": {},
   "outputs": [],
   "source": []
  }
 ],
 "metadata": {
  "anaconda-cloud": {},
  "kernelspec": {
   "display_name": "Python 3",
   "language": "python",
   "name": "python3"
  },
  "language_info": {
   "codemirror_mode": {
    "name": "ipython",
    "version": 3
   },
   "file_extension": ".py",
   "mimetype": "text/x-python",
   "name": "python",
   "nbconvert_exporter": "python",
   "pygments_lexer": "ipython3",
   "version": "3.6.3"
  }
 },
 "nbformat": 4,
 "nbformat_minor": 2
}
