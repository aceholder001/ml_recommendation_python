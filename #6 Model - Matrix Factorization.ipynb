{
 "cells": [
  {
   "cell_type": "markdown",
   "metadata": {
    "collapsed": true
   },
   "source": [
    "# Model - Matrix Factorization\n",
    "\n",
    "\n",
    "- Map both users and items to a joint latent factor space\n",
    "- user-item interactions are inner products in that space\n",
    "\n",
    "**Decomposition of the rating matrix**  \n",
    "R -> m users, n items  \n",
    "Row in P -> user's affinity to the features (m users, f latent factors/features)  \n",
    "Row in Q -> item's relation to the features (n items, f latent factors/features)  \n",
    "\n",
    "- P indicates how much user likes f latent factors  \n",
    "- Q indicates how much one item obtains f latent factors\n",
    "- The dot product indicates how much user likes item  \n",
    "- The decomposition automatically ranks features by their impact on the ratings\n",
    "- Features may not be intuitive though !\n",
    "- Model has hyperparameters (regularization, learning rate)\n",
    "\n",
    "**Common Learning Algorithms**\n",
    "\n",
    "- stochastic gradient descent\n",
    "- alternating least squares\n",
    "\n",
    "**Key Challenge**\n",
    "\n",
    "Temporal Dynamics.\n",
    "\n",
    "\n",
    "\n",
    "\n",
    "For a better and visual understanding of Matrix Factorization Techniques, read the following links\n",
    "- The original paper on [Collaborative Filtering for Implicit Feedback Datasets](http://yifanhu.net/PUB/cf.pdf)\n",
    "- [Finding Similar Music using Matrix Factorization](http://www.benfrederickson.com/matrix-factorization/) by Ben Frederickson\n",
    "- [Intro to Implicit Matrix Factorization: Classic ALS with Sketchfab Models](http://blog.ethanrosenthal.com/2016/10/19/implicit-mf-part-1/)\n"
   ]
  },
  {
   "cell_type": "markdown",
   "metadata": {},
   "source": [
    "## Simple Example"
   ]
  },
  {
   "cell_type": "code",
   "execution_count": 17,
   "metadata": {
    "collapsed": true
   },
   "outputs": [],
   "source": [
    "import numpy as np\n",
    "np.set_printoptions(precision=2)"
   ]
  },
  {
   "cell_type": "code",
   "execution_count": 38,
   "metadata": {
    "collapsed": true
   },
   "outputs": [],
   "source": [
    "\"\"\"\n",
    "@INPUT:\n",
    "    R     : a matrix to be factorized, dimension N x M\n",
    "    P     : an initial matrix of dimension N x K\n",
    "    Q     : an initial matrix of dimension M x K\n",
    "    K     : the number of latent features\n",
    "    steps : the maximum number of steps to perform the optimisation\n",
    "    alpha : the learning rate\n",
    "    beta  : the regularization parameter\n",
    "@OUTPUT:\n",
    "    the final matrices P and Q\n",
    "\"\"\"\n",
    "\n",
    "def als_matrix_factorization(R, K=2, steps=5000, alpha=0.0002, beta=0.02):\n",
    "    N = len(R)\n",
    "    M = len(R[0])\n",
    "    P = np.random.rand(N,K)\n",
    "    Q = np.random.rand(M,K)\n",
    "    Q = Q.T\n",
    "    \n",
    "    for step in range(steps):\n",
    "        for i in range(len(R)):\n",
    "            for j in range(len(R[i])):\n",
    "                if R[i][j] > 0:\n",
    "                    eij = R[i][j] - np.dot(P[i,:],Q[:,j])\n",
    "                    for k in range(K):\n",
    "                        P[i][k] = P[i][k] + alpha * (2 * eij * Q[k][j] - beta * P[i][k])\n",
    "                        Q[k][j] = Q[k][j] + alpha * (2 * eij * P[i][k] - beta * Q[k][j])\n",
    "        eR = np.dot(P,Q)\n",
    "        e = 0\n",
    "        for i in range(len(R)):\n",
    "            for j in range(len(R[i])):\n",
    "                if R[i][j] > 0:\n",
    "                    e = e + pow(R[i][j] - np.dot(P[i,:],Q[:,j]), 2)\n",
    "                    for k in range(K):\n",
    "                        e = e + (beta/2) * ( pow(P[i][k],2) + pow(Q[k][j],2) )\n",
    "        if e < 0.001:\n",
    "            break\n",
    "    return P, Q.T"
   ]
  },
  {
   "cell_type": "code",
   "execution_count": 39,
   "metadata": {
    "collapsed": true
   },
   "outputs": [],
   "source": [
    "R = np.array([[1, 0, 1, 0, 0], \n",
    "              [0, 1, 0, 0, 1], \n",
    "              [1, 0, 0, 1, 0], \n",
    "              [0, 0, 1, 0, 0]])"
   ]
  },
  {
   "cell_type": "code",
   "execution_count": 40,
   "metadata": {},
   "outputs": [],
   "source": [
    "# Run ALS\n",
    "nP, nQ = als_matrix_factorization(R, K=2)"
   ]
  },
  {
   "cell_type": "code",
   "execution_count": 41,
   "metadata": {},
   "outputs": [
    {
     "data": {
      "text/plain": [
       "array([[ 0.97,  0.97,  0.99,  0.85,  1.03],\n",
       "       [ 0.97,  0.96,  0.98,  0.84,  1.01],\n",
       "       [ 1.01,  1.02,  1.09,  0.98,  1.13],\n",
       "       [ 0.98,  0.97,  0.99,  0.85,  1.03]])"
      ]
     },
     "execution_count": 41,
     "metadata": {},
     "output_type": "execute_result"
    }
   ],
   "source": [
    "nP.dot(nQ.T)"
   ]
  },
  {
   "cell_type": "code",
   "execution_count": 32,
   "metadata": {},
   "outputs": [
    {
     "data": {
      "text/plain": [
       "array([[ 0.83,  0.68],\n",
       "       [ 0.78,  0.45],\n",
       "       [ 0.92,  0.78],\n",
       "       [ 1.03,  0.26],\n",
       "       [ 0.75,  0.35]])"
      ]
     },
     "execution_count": 32,
     "metadata": {},
     "output_type": "execute_result"
    }
   ],
   "source": [
    "nQ"
   ]
  },
  {
   "cell_type": "code",
   "execution_count": 42,
   "metadata": {},
   "outputs": [
    {
     "data": {
      "text/plain": [
       "array([[ 0.5 ,  0.86],\n",
       "       [ 0.49,  0.85],\n",
       "       [ 0.61,  0.87],\n",
       "       [ 0.49,  0.86]])"
      ]
     },
     "execution_count": 42,
     "metadata": {},
     "output_type": "execute_result"
    }
   ],
   "source": [
    "nP"
   ]
  },
  {
   "cell_type": "markdown",
   "metadata": {},
   "source": [
    "## HackerNews Dataset"
   ]
  },
  {
   "cell_type": "code",
   "execution_count": 57,
   "metadata": {},
   "outputs": [],
   "source": [
    "# ! pip install implicit"
   ]
  },
  {
   "cell_type": "code",
   "execution_count": 58,
   "metadata": {},
   "outputs": [],
   "source": [
    "import pandas as pd\n",
    "import scipy.sparse as sparse\n",
    "import implicit\n",
    "\n",
    "import matplotlib.pyplot as plt\n",
    "%matplotlib inline\n",
    "plt.style.use('ggplot')"
   ]
  },
  {
   "cell_type": "code",
   "execution_count": 59,
   "metadata": {
    "collapsed": true
   },
   "outputs": [],
   "source": [
    "# Lets read the story, user, comments data\n",
    "story_user_comments = pd.read_csv(\"data/story_user_comment.csv\")"
   ]
  },
  {
   "cell_type": "code",
   "execution_count": 60,
   "metadata": {},
   "outputs": [
    {
     "data": {
      "text/html": [
       "<div>\n",
       "<style>\n",
       "    .dataframe thead tr:only-child th {\n",
       "        text-align: right;\n",
       "    }\n",
       "\n",
       "    .dataframe thead th {\n",
       "        text-align: left;\n",
       "    }\n",
       "\n",
       "    .dataframe tbody tr th {\n",
       "        vertical-align: top;\n",
       "    }\n",
       "</style>\n",
       "<table border=\"1\" class=\"dataframe\">\n",
       "  <thead>\n",
       "    <tr style=\"text-align: right;\">\n",
       "      <th></th>\n",
       "      <th>user</th>\n",
       "      <th>story</th>\n",
       "      <th>comment</th>\n",
       "    </tr>\n",
       "  </thead>\n",
       "  <tbody>\n",
       "    <tr>\n",
       "      <th>0</th>\n",
       "      <td>21</td>\n",
       "      <td>14356377</td>\n",
       "      <td>1</td>\n",
       "    </tr>\n",
       "    <tr>\n",
       "      <th>1</th>\n",
       "      <td>21</td>\n",
       "      <td>15131370</td>\n",
       "      <td>1</td>\n",
       "    </tr>\n",
       "    <tr>\n",
       "      <th>2</th>\n",
       "      <td>21</td>\n",
       "      <td>15196309</td>\n",
       "      <td>1</td>\n",
       "    </tr>\n",
       "    <tr>\n",
       "      <th>3</th>\n",
       "      <td>47</td>\n",
       "      <td>15601729</td>\n",
       "      <td>1</td>\n",
       "    </tr>\n",
       "    <tr>\n",
       "      <th>4</th>\n",
       "      <td>47</td>\n",
       "      <td>14023198</td>\n",
       "      <td>1</td>\n",
       "    </tr>\n",
       "  </tbody>\n",
       "</table>\n",
       "</div>"
      ],
      "text/plain": [
       "  user     story  comment\n",
       "0   21  14356377        1\n",
       "1   21  15131370        1\n",
       "2   21  15196309        1\n",
       "3   47  15601729        1\n",
       "4   47  14023198        1"
      ]
     },
     "execution_count": 60,
     "metadata": {},
     "output_type": "execute_result"
    }
   ],
   "source": [
    "story_user_comments.head()"
   ]
  },
  {
   "cell_type": "code",
   "execution_count": 61,
   "metadata": {},
   "outputs": [
    {
     "name": "stdout",
     "output_type": "stream",
     "text": [
      "Number of users: 23230\n",
      "Number of stories: 969\n",
      "Sparsity: 0.002%\n"
     ]
    }
   ],
   "source": [
    "n_users = story_user_comments.user.unique().shape[0]\n",
    "n_stories = story_user_comments.story.unique().shape[0]\n",
    "\n",
    "print('Number of users: {}'.format(n_users))\n",
    "print('Number of stories: {}'.format(n_stories))\n",
    "print('Sparsity: {:4.3f}%'.format(float(story_user_comments.shape[0]) / float(n_users*n_stories)))"
   ]
  },
  {
   "cell_type": "markdown",
   "metadata": {},
   "source": [
    "## Creating the user_story matrix"
   ]
  },
  {
   "cell_type": "code",
   "execution_count": 97,
   "metadata": {},
   "outputs": [],
   "source": [
    "#! pip install mlxtend"
   ]
  },
  {
   "cell_type": "code",
   "execution_count": 98,
   "metadata": {},
   "outputs": [],
   "source": [
    "from mlxtend.preprocessing import OnehotTransactions"
   ]
  },
  {
   "cell_type": "code",
   "execution_count": 99,
   "metadata": {
    "collapsed": true
   },
   "outputs": [],
   "source": [
    "def OHE_Matrix( df ) :\n",
    "\n",
    "    g2 = df.groupby([\"user\"], as_index = False)\n",
    "    \n",
    "    Itemset = []\n",
    "    user = []\n",
    "    for item in list(g2.groups.keys()) :\n",
    "        Itemset.append( list(g2.get_group(item)[\"story\"]))\n",
    "        user.append(item) \n",
    "        \n",
    "    oht = OnehotTransactions()\n",
    "    u = oht.fit(Itemset).transform(Itemset)\n",
    "    \n",
    "    Matrix = pd.DataFrame(u, columns = oht.columns_)\n",
    "    Matrix[\"user\"] = user\n",
    "    Matrix = Matrix.set_index(\"user\")\n",
    "    \n",
    "    return Matrix"
   ]
  },
  {
   "cell_type": "code",
   "execution_count": 1,
   "metadata": {},
   "outputs": [
    {
     "ename": "NameError",
     "evalue": "name 'OHE_Matrix' is not defined",
     "output_type": "error",
     "traceback": [
      "\u001b[0;31m-----------------------------------------------------------------------\u001b[0m",
      "\u001b[0;31mNameError\u001b[0m                             Traceback (most recent call last)",
      "\u001b[0;32m<ipython-input-1-b681910285b5>\u001b[0m in \u001b[0;36m<module>\u001b[0;34m()\u001b[0m\n\u001b[0;32m----> 1\u001b[0;31m \u001b[0mmatrix1\u001b[0m \u001b[0;34m=\u001b[0m \u001b[0mOHE_Matrix\u001b[0m\u001b[0;34m(\u001b[0m\u001b[0mstory_user_comments\u001b[0m\u001b[0;34m)\u001b[0m\u001b[0;34m\u001b[0m\u001b[0m\n\u001b[0m",
      "\u001b[0;31mNameError\u001b[0m: name 'OHE_Matrix' is not defined"
     ]
    }
   ],
   "source": [
    "matrix1 = OHE_Matrix(story_user_comments)"
   ]
  },
  {
   "cell_type": "markdown",
   "metadata": {},
   "source": [
    "**Using Sparse Matrix Creation**"
   ]
  },
  {
   "cell_type": "markdown",
   "metadata": {},
   "source": [
    "Lets create a mapper to convert this to a sparse matrix"
   ]
  },
  {
   "cell_type": "code",
   "execution_count": 62,
   "metadata": {},
   "outputs": [],
   "source": [
    "def Sparse_Matrix(df):\n",
    "    \n",
    "    # Create mappings\n",
    "    user_to_index = {}\n",
    "    index_to_user = {}\n",
    "    for (index, user) in enumerate(df.user.unique().tolist()):\n",
    "        user_to_index[user] = index\n",
    "        index_to_user[index] = user\n",
    "\n",
    "    story_to_index = {}\n",
    "    index_to_story = {}\n",
    "    for (index, story) in enumerate(df.story.unique().tolist()):\n",
    "        story_to_index[story] = index\n",
    "        index_to_story[index] = story\n",
    "        \n",
    "    # Create a map id function\n",
    "    def map_ids(row, mapper):\n",
    "        return mapper[row]\n",
    "    \n",
    "    # Apply the map id function \n",
    "    I = df.user.apply(map_ids, args=[user_to_index]).as_matrix()\n",
    "    J = df.story.apply(map_ids, args=[story_to_index]).as_matrix()\n",
    "    V = np.ones(I.shape[0])\n",
    "    \n",
    "    # Create the Matrix\n",
    "    item_user = sparse.coo_matrix((V, (I, J)), dtype=np.float64)\n",
    "    story_user_matrix = df.tocsr()"
   ]
  },
  {
   "cell_type": "code",
   "execution_count": 63,
   "metadata": {
    "collapsed": true
   },
   "outputs": [],
   "source": []
  },
  {
   "cell_type": "code",
   "execution_count": 65,
   "metadata": {},
   "outputs": [],
   "source": []
  },
  {
   "cell_type": "code",
   "execution_count": 91,
   "metadata": {
    "collapsed": true
   },
   "outputs": [],
   "source": [
    "# Create the Matrix\n",
    "story_user_matrix = sparse.coo_matrix((V, (I, J)), dtype=np.float64)\n",
    "story_user_matrix = story_user_matrix.tocsr()"
   ]
  },
  {
   "cell_type": "code",
   "execution_count": 87,
   "metadata": {},
   "outputs": [
    {
     "data": {
      "text/plain": [
       "<23230x969 sparse matrix of type '<class 'numpy.float64'>'\n",
       "\twith 50975 stored elements in Compressed Sparse Row format>"
      ]
     },
     "execution_count": 87,
     "metadata": {},
     "output_type": "execute_result"
    }
   ],
   "source": [
    "story_user_matrix"
   ]
  },
  {
   "cell_type": "markdown",
   "metadata": {},
   "source": [
    "## Building the Recommendation"
   ]
  },
  {
   "cell_type": "code",
   "execution_count": 71,
   "metadata": {
    "collapsed": true
   },
   "outputs": [],
   "source": [
    "import implicit"
   ]
  },
  {
   "cell_type": "code",
   "execution_count": 73,
   "metadata": {},
   "outputs": [
    {
     "name": "stderr",
     "output_type": "stream",
     "text": [
      "WARNING:root:OpenBLAS detected. Its highly recommend to set the environment variable 'export OPENBLAS_NUM_THREADS=1' to disable its internal multithreading\n"
     ]
    }
   ],
   "source": [
    "# initialize a model\n",
    "model = implicit.als.AlternatingLeastSquares(factors=10)"
   ]
  },
  {
   "cell_type": "code",
   "execution_count": 88,
   "metadata": {
    "collapsed": true
   },
   "outputs": [],
   "source": [
    "# train the model on a sparse matrix of item/user/weights\n",
    "model.fit(story_user_matrix)"
   ]
  },
  {
   "cell_type": "code",
   "execution_count": 90,
   "metadata": {},
   "outputs": [],
   "source": [
    "# recommend items for a user\n",
    "user_items = story_user_matrix.T.tocsr()"
   ]
  },
  {
   "cell_type": "code",
   "execution_count": null,
   "metadata": {
    "collapsed": true
   },
   "outputs": [],
   "source": [
    "recommendations = model.recommend(user, implicit_mat)"
   ]
  },
  {
   "cell_type": "code",
   "execution_count": null,
   "metadata": {
    "collapsed": true
   },
   "outputs": [],
   "source": [
    "# initialize a model\n",
    "model = implicit.als.AlternatingLeastSquares(factors=50)\n",
    "\n",
    "# train the model on a sparse matrix of item/user/confidence weights\n",
    "model.fit(implicit_mat)\n",
    "\n",
    "# recommend items for a user\n",
    "user_items = item_user_data.T.tocsr()\n",
    "recommendations = model.recommend(userid, user_items)\n",
    "\n",
    "# find related items\n",
    "related = model.similar_items(itemid)"
   ]
  }
 ],
 "metadata": {
  "anaconda-cloud": {},
  "kernelspec": {
   "display_name": "Python 3",
   "language": "python",
   "name": "python3"
  },
  "language_info": {
   "codemirror_mode": {
    "name": "ipython",
    "version": 3
   },
   "file_extension": ".py",
   "mimetype": "text/x-python",
   "name": "python",
   "nbconvert_exporter": "python",
   "pygments_lexer": "ipython3",
   "version": "3.6.3"
  }
 },
 "nbformat": 4,
 "nbformat_minor": 2
}
